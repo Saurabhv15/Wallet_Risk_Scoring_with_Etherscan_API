{
  "cells": [
    {
      "cell_type": "code",
      "execution_count": 1,
      "metadata": {
        "colab": {
          "base_uri": "https://localhost:8080/"
        },
        "id": "WzAZb8nI6DQR",
        "outputId": "736d6272-aebb-4bf2-fa21-8a2953edea4f"
      },
      "outputs": [
        {
          "name": "stdout",
          "output_type": "stream",
          "text": [
            "Requirement already satisfied: pandas in /usr/local/lib/python3.11/dist-packages (2.2.2)\n",
            "Requirement already satisfied: requests in /usr/local/lib/python3.11/dist-packages (2.32.3)\n",
            "Requirement already satisfied: openpyxl in /usr/local/lib/python3.11/dist-packages (3.1.5)\n",
            "Requirement already satisfied: numpy>=1.23.2 in /usr/local/lib/python3.11/dist-packages (from pandas) (2.0.2)\n",
            "Requirement already satisfied: python-dateutil>=2.8.2 in /usr/local/lib/python3.11/dist-packages (from pandas) (2.9.0.post0)\n",
            "Requirement already satisfied: pytz>=2020.1 in /usr/local/lib/python3.11/dist-packages (from pandas) (2025.2)\n",
            "Requirement already satisfied: tzdata>=2022.7 in /usr/local/lib/python3.11/dist-packages (from pandas) (2025.2)\n",
            "Requirement already satisfied: charset-normalizer<4,>=2 in /usr/local/lib/python3.11/dist-packages (from requests) (3.4.2)\n",
            "Requirement already satisfied: idna<4,>=2.5 in /usr/local/lib/python3.11/dist-packages (from requests) (3.10)\n",
            "Requirement already satisfied: urllib3<3,>=1.21.1 in /usr/local/lib/python3.11/dist-packages (from requests) (2.5.0)\n",
            "Requirement already satisfied: certifi>=2017.4.17 in /usr/local/lib/python3.11/dist-packages (from requests) (2025.7.14)\n",
            "Requirement already satisfied: et-xmlfile in /usr/local/lib/python3.11/dist-packages (from openpyxl) (2.0.0)\n",
            "Requirement already satisfied: six>=1.5 in /usr/local/lib/python3.11/dist-packages (from python-dateutil>=2.8.2->pandas) (1.17.0)\n"
          ]
        }
      ],
      "source": [
        "!pip install pandas requests openpyxl"
      ]
    },
    {
      "cell_type": "code",
      "execution_count": null,
      "metadata": {
        "id": "6tMd4clq6kgE"
      },
      "outputs": [],
      "source": [
        "#importing libraries\n",
        "import pandas as pd\n",
        "import requests\n",
        "import time\n",
        "import json\n",
        "\n",
        "API_KEY = \n"
      ]
    },
    {
      "cell_type": "code",
      "execution_count": 61,
      "metadata": {
        "id": "-6j_kTaK65wr"
      },
      "outputs": [],
      "source": [
        "wallets_df = pd.read_excel('/content/drive/MyDrive/Zeru Finance/Stage 2/Wallet id.xlsx')\n",
        "wallets_list = wallets_df.iloc[:,0].tolist()"
      ]
    },
    {
      "cell_type": "code",
      "execution_count": 67,
      "metadata": {
        "id": "8HJ3ngr47Gjs"
      },
      "outputs": [],
      "source": [
        "def get_wallet_features(wallet_address):\n",
        "    # Fetch normal transactions count\n",
        "    tx_url = f\"https://api.etherscan.io/api?module=account&action=txlist&address={wallet_address}&startblock=0&endblock=99999999&sort=asc&apikey={API_KEY}\"\n",
        "    tx_response = requests.get(tx_url).json()\n",
        "\n",
        "    if tx_response['status'] == '1':\n",
        "        tx_count = len(tx_response['result'])\n",
        "    else:\n",
        "        tx_count = 0\n",
        "\n",
        "    # Fetch ETH balance\n",
        "    balance_url = f\"https://api.etherscan.io/api?module=account&action=balance&address={wallet_address}&tag=latest&apikey={API_KEY}\"\n",
        "    balance_response = requests.get(balance_url).json()\n",
        "\n",
        "    if balance_response['status'] == '1':\n",
        "        balance_eth = int(balance_response['result']) / (10**18)\n",
        "    else:\n",
        "        balance_eth = 0\n",
        "\n",
        "    # Fetch Compound v2 data for borrow and supply\n",
        "    compound_url = \"https://api.thegraph.com/subgraphs/name/graphprotocol/compound-v2\"\n",
        "    compound_query = \"\"\"\n",
        "    {\n",
        "      account(id: \"%s\") {\n",
        "        id\n",
        "        tokens {\n",
        "          symbol\n",
        "          supplyBalanceUnderlying\n",
        "          borrowBalanceUnderlying\n",
        "        }\n",
        "      }\n",
        "    }\n",
        "    \"\"\" % wallet_address.lower()\n",
        "\n",
        "    compound_response = requests.post(compound_url, json={'query': compound_query})\n",
        "    compound_data = json.loads(compound_response.text)\n",
        "\n",
        "    total_borrow = 0\n",
        "    total_supply = 0\n",
        "    if 'data' in compound_data and compound_data['data']['account'] is not None:\n",
        "        tokens = compound_data['data']['account']['tokens']\n",
        "        total_borrow = sum([float(t['borrowBalanceUnderlying']) for t in tokens if t['borrowBalanceUnderlying']])\n",
        "        total_supply = sum([float(t['supplyBalanceUnderlying']) for t in tokens if t['supplyBalanceUnderlying']])\n",
        "\n",
        "\n",
        "    # Sleep for 0.2 sec to avoid rate limits\n",
        "    time.sleep(0.2)\n",
        "\n",
        "    return {'wallet': wallet_address, 'tx_count': tx_count, 'eth_balance': balance_eth, 'borrow': total_borrow, 'supply': total_supply}"
      ]
    },
    {
      "cell_type": "code",
      "execution_count": 69,
      "metadata": {
        "id": "bK8DWKWz7lyg"
      },
      "outputs": [],
      "source": [
        "wallets_features = []"
      ]
    },
    {
      "cell_type": "code",
      "execution_count": 70,
      "metadata": {
        "id": "uE4-5UXZ7tNC"
      },
      "outputs": [],
      "source": [
        "\n",
        "for wallet in wallets_list:\n",
        "    data = get_wallet_features(wallet)\n",
        "    wallets_features.append(data)\n",
        "\n",
        "features_df = pd.DataFrame(wallets_features)"
      ]
    },
    {
      "cell_type": "code",
      "execution_count": 71,
      "metadata": {
        "id": "---TfnPm759h"
      },
      "outputs": [],
      "source": [
        "for col in ['tx_count','eth_balance']:\n",
        "    min_val = features_df[col].min()\n",
        "    max_val = features_df[col].max()\n",
        "    features_df[col+'_norm'] = (features_df[col]-min_val)/(max_val-min_val+1e-6)\n"
      ]
    },
    {
      "cell_type": "code",
      "execution_count": 74,
      "metadata": {
        "id": "2X_UOSzR8JDA"
      },
      "outputs": [],
      "source": [
        "features_df['utilisation'] = features_df['borrow'] / (features_df['supply'] + 1e-6)\n",
        "features_df['utilisation_norm'] = (features_df['utilisation']-features_df['utilisation'].min())/(features_df['utilisation'].max()-features_df['utilisation'].min()+1e-6)\n"
      ]
    },
    {
      "cell_type": "code",
      "execution_count": 75,
      "metadata": {
        "id": "laJbf4cO8LWb"
      },
      "outputs": [],
      "source": [
        "features_df['score'] = (\n",
        "    features_df['tx_count_norm'] * 0.6 +\n",
        "    features_df['eth_balance_norm'] * 0.4\n",
        ") * 1000\n"
      ]
    },
    {
      "cell_type": "code",
      "execution_count": 76,
      "metadata": {
        "id": "lO4szC998TuY"
      },
      "outputs": [],
      "source": [
        "final_df = features_df[['wallet','score']]\n",
        "final_df.to_csv('/content/drive/MyDrive/Zeru Finance/Stage 2/Final_Output/wallet_risk_scores.csv', index=False)\n"
      ]
    },
    {
      "cell_type": "code",
      "execution_count": 77,
      "metadata": {
        "colab": {
          "base_uri": "https://localhost:8080/"
        },
        "id": "nqqOwy-u8iyu",
        "outputId": "1c584c51-8c62-4ae9-e75c-d9609412f7ac"
      },
      "outputs": [
        {
          "name": "stdout",
          "output_type": "stream",
          "text": [
            "                                       wallet       score\n",
            "0  0x0039f22efb07a647557c7c5d17854cfd6d489ef3  728.495029\n",
            "1  0x06b51c6882b27cb05e712185531c1f74996dd988    1.233299\n",
            "2  0x0795732aacc448030ef374374eaae57d2965c16c    0.217610\n",
            "3  0x0aaa79f1a86bc8136cd0d1ca0d51964f4e3766f9    7.399794\n",
            "4  0x0fe383e5abc200055a7f391f94a5f5d1f844b9ae    1.233299\n"
          ]
        }
      ],
      "source": [
        "print(final_df.head(5))"
      ]
    },
    {
      "cell_type": "code",
      "execution_count": null,
      "metadata": {
        "id": "hkTD8Hfr86rT"
      },
      "outputs": [],
      "source": []
    }
  ],
  "metadata": {
    "colab": {
      "provenance": []
    },
    "kernelspec": {
      "display_name": "Python 3",
      "name": "python3"
    },
    "language_info": {
      "name": "python"
    }
  },
  "nbformat": 4,
  "nbformat_minor": 0
}
